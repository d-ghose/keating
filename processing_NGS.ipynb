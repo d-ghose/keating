{
 "cells": [
  {
   "cell_type": "code",
   "execution_count": 1,
   "metadata": {
    "Collapsed": "false"
   },
   "outputs": [],
   "source": [
    "from Bio import SeqIO\n",
    "import gzip"
   ]
  },
  {
   "cell_type": "code",
   "execution_count": 2,
   "metadata": {
    "Collapsed": "false"
   },
   "outputs": [],
   "source": [
    "import pandas as pd\n",
    "import numpy as np\n",
    "import seaborn as sns\n",
    "import matplotlib.pyplot as plt"
   ]
  },
  {
   "cell_type": "code",
   "execution_count": 3,
   "metadata": {
    "Collapsed": "false"
   },
   "outputs": [],
   "source": [
    "import csv"
   ]
  },
  {
   "cell_type": "code",
   "execution_count": 4,
   "metadata": {
    "Collapsed": "false"
   },
   "outputs": [],
   "source": [
    "import subprocess"
   ]
  },
  {
   "cell_type": "markdown",
   "metadata": {
    "Collapsed": "false"
   },
   "source": [
    "## Functions"
   ]
  },
  {
   "cell_type": "code",
   "execution_count": 5,
   "metadata": {
    "Collapsed": "false"
   },
   "outputs": [],
   "source": [
    "def rev_comp(seq):\n",
    "    complement = {'A': 'T', 'C': 'G', 'G': 'C', 'T': 'A','a': 't', 'c': 'g', 'g': 'c', 't': 'a'}\n",
    "    return \"\".join(complement.get(base, base) for base in reversed(seq))"
   ]
  },
  {
   "cell_type": "code",
   "execution_count": 6,
   "metadata": {
    "Collapsed": "false"
   },
   "outputs": [],
   "source": [
    "geneticcode = {'GGG':'G', 'GGA':'G', 'GGC':'G', 'GGT':'G','GAG':'E', 'GAA':'E', 'GAC':'D', 'GAT':'D','GCG':'A', 'GCA':'A', 'GCC':'A', 'GCT':'A',\n",
    "               'GTG':'V', 'GTA':'V', 'GTC':'V', 'GTT':'V','AGG':'R', 'AGA':'R', 'AGC':'S', 'AGT':'S','AAG':'K', 'AAA':'K', 'AAC':'N', 'AAT':'N',\n",
    "               'ACG':'T', 'ACA':'T', 'ACC':'T', 'ACT':'T','ATG':'M', 'ATA':'I', 'ATC':'I', 'ATT':'I','CGG':'R', 'CGA':'R', 'CGC':'R', 'CGT':'R',\n",
    "               'CAG':'Q', 'CAA':'Q', 'CAC':'H', 'CAT':'H','CCG':'P', 'CCA':'P', 'CCC':'P', 'CCT':'P','CTG':'L', 'CTA':'L', 'CTC':'L', 'CTT':'L',\n",
    "               'TGG':'W', 'TGA':'*', 'TGC':'C', 'TGT':'C','TAG':'*', 'TAA':'*', 'TAC':'Y', 'TAT':'Y','TCG':'S', 'TCA':'S', 'TCC':'S', 'TCT':'S','TTG':'L', 'TTA':'L', 'TTC':'F', 'TTT':'F'}"
   ]
  },
  {
   "cell_type": "code",
   "execution_count": 7,
   "metadata": {
    "Collapsed": "false"
   },
   "outputs": [],
   "source": [
    "def translateDNA(seq):\n",
    "    i = 0\n",
    "    aa = \"\"\n",
    "    while i <= len(seq)-3:\n",
    "        try:\n",
    "            aa += geneticcode[seq[i:i+3]]\n",
    "            i +=3\n",
    "        except:\n",
    "            break\n",
    "    return aa"
   ]
  },
  {
   "cell_type": "code",
   "execution_count": 8,
   "metadata": {
    "Collapsed": "false"
   },
   "outputs": [],
   "source": [
    "alphabet = ['A', 'C', 'D', 'E', 'F', 'G', 'H', 'I', 'K', 'L', 'M', 'N', 'P',\n",
    "       'Q', 'R', 'S', 'T', 'V', 'W', 'Y', '*']"
   ]
  },
  {
   "cell_type": "markdown",
   "metadata": {
    "Collapsed": "false"
   },
   "source": [
    "## Process raw reads"
   ]
  },
  {
   "cell_type": "code",
   "execution_count": 26,
   "metadata": {
    "Collapsed": "false"
   },
   "outputs": [
    {
     "name": "stdout",
     "output_type": "stream",
     "text": [
      "3820086 total reads\n"
     ]
    }
   ],
   "source": [
    "seq_dict = {}\n",
    "with gzip.open('231212Lau/231212Lau_D23-238197-1_1_sequence.fastq.gz', \"rt\") as handle:\n",
    "    for record in SeqIO.parse(handle, \"fastq\"):\n",
    "        seq_dict[record.id.split('/')[0]] = str(record.seq)\n",
    "\n",
    "print (len(seq_dict), 'total reads')"
   ]
  },
  {
   "cell_type": "code",
   "execution_count": 6,
   "metadata": {
    "Collapsed": "false"
   },
   "outputs": [],
   "source": [
    "qual_scores = {}\n",
    "with gzip.open('231212Lau/231212Lau_D23-238197-1_1_sequence.fastq.gz', \"rt\") as handle:\n",
    "    for record in SeqIO.parse(handle, \"fastq\"):\n",
    "        qual_scores[record.id.split('/')[0]] = record.letter_annotations[\"phred_quality\"]\n"
   ]
  },
  {
   "cell_type": "code",
   "execution_count": 27,
   "metadata": {
    "Collapsed": "false"
   },
   "outputs": [],
   "source": [
    "aligned_dict = {}\n",
    "qual_aligned = {}\n",
    "for entry in seq_dict:\n",
    "    start_pos = seq_dict[entry].find('CTCAAATCTT') + 10\n",
    "    aligned_dict[entry] = seq_dict[entry][start_pos:]\n",
    "    qual_aligned[entry] = qual_scores[entry][start_pos:]"
   ]
  },
  {
   "cell_type": "code",
   "execution_count": null,
   "metadata": {
    "Collapsed": "false"
   },
   "outputs": [],
   "source": [
    "filt_dict = {}\n",
    "for entry in aligned_dict:\n",
    "    seq = aligned_dict[entry]\n",
    "    qual = qual_aligned[entry]\n",
    "    for i in range(len(qual)):\n",
    "        if qual[i] >= 30:\n",
    "            continue\n",
    "        else:\n",
    "            qual.append('FLAG')\n",
    "            "
   ]
  },
  {
   "cell_type": "code",
   "execution_count": 28,
   "metadata": {
    "Collapsed": "false"
   },
   "outputs": [],
   "source": [
    "aa_dict = {}\n",
    "for entry in filt_dict:\n",
    "    aa_dict[entry] = translateDNA(filt_dict[entry])"
   ]
  },
  {
   "cell_type": "code",
   "execution_count": 29,
   "metadata": {
    "Collapsed": "false"
   },
   "outputs": [],
   "source": [
    "aa_trim = {}\n",
    "for entry in aa_dict:\n",
    "    stop_pos = aa_dict[entry].find('*')\n",
    "    if stop_pos != -1:\n",
    "        aa_trim[entry] = aa_dict[entry][1:stop_pos]\n",
    "    else:\n",
    "        aa_trim[entry] = aa_dict[entry][1:]"
   ]
  },
  {
   "cell_type": "code",
   "execution_count": 18,
   "metadata": {
    "Collapsed": "false"
   },
   "outputs": [],
   "source": [
    "binders_full = pd.read_csv('enrichment_ratio_extensions.csv')"
   ]
  },
  {
   "cell_type": "code",
   "execution_count": 19,
   "metadata": {
    "Collapsed": "false"
   },
   "outputs": [],
   "source": [
    "seq_lib = list(binders_full['sequence'])"
   ]
  },
  {
   "cell_type": "code",
   "execution_count": 30,
   "metadata": {
    "Collapsed": "false"
   },
   "outputs": [],
   "source": [
    "counts_1 = {}\n",
    "#no_map = []\n",
    "for seq in seq_lib:\n",
    "    counts_1[seq] = 0\n",
    "for read in aa_trim:\n",
    "    if aa_trim[read] in seq_lib:\n",
    "        counts_1[aa_trim[read]] += 1\n",
    "    #else:\n",
    "        #no_map.append(aa_trim[read])"
   ]
  },
  {
   "cell_type": "code",
   "execution_count": 1,
   "metadata": {
    "Collapsed": "false"
   },
   "outputs": [],
   "source": [
    "#repeat for post-selection library"
   ]
  },
  {
   "cell_type": "code",
   "execution_count": 50,
   "metadata": {
    "Collapsed": "false"
   },
   "outputs": [],
   "source": [
    "counts_1 = np.array(counts_naive['558'])\n",
    "counts_2 = np.array(counts_post['1'])"
   ]
  },
  {
   "cell_type": "code",
   "execution_count": 51,
   "metadata": {
    "Collapsed": "false"
   },
   "outputs": [],
   "source": [
    "freq_1 = counts_1/3820086\n",
    "freq_2 = counts_2/3560082"
   ]
  },
  {
   "cell_type": "code",
   "execution_count": 52,
   "metadata": {
    "Collapsed": "false"
   },
   "outputs": [
    {
     "name": "stderr",
     "output_type": "stream",
     "text": [
      "/home/culviner/common_py3/lib/python3.6/site-packages/ipykernel_launcher.py:1: RuntimeWarning: invalid value encountered in true_divide\n",
      "  \"\"\"Entry point for launching an IPython kernel.\n"
     ]
    }
   ],
   "source": [
    "enrichment_ratio = freq_2/freq_1"
   ]
  },
  {
   "cell_type": "code",
   "execution_count": 67,
   "metadata": {
    "Collapsed": "false"
   },
   "outputs": [],
   "source": [
    "enrichment_ratio_df = pd.DataFrame(index = seq_lib[1:], data=enrichment_ratio, columns=['er'])"
   ]
  },
  {
   "cell_type": "code",
   "execution_count": 60,
   "metadata": {
    "Collapsed": "false"
   },
   "outputs": [],
   "source": [
    "enrichment_ratio_df.to_csv('enrichment_ratio_prelim.csv')"
   ]
  },
  {
   "cell_type": "code",
   "execution_count": 31,
   "metadata": {
    "Collapsed": "false"
   },
   "outputs": [],
   "source": [
    "with open('enrichment_ratio_prelim.csv', 'w') as f:\n",
    "    for key in counts.keys():\n",
    "        f.write(\"%s,%s\\n\"%(key,counts[key]))\n",
    "    #for key in counts_nomap.keys():\n",
    "        #f.write(\"%s,%s\\n\"%(key,counts_nomap[key]))"
   ]
  }
 ],
 "metadata": {
  "kernelspec": {
   "display_name": "common_py3",
   "language": "python",
   "name": "common_py3"
  },
  "language_info": {
   "codemirror_mode": {
    "name": "ipython",
    "version": 3
   },
   "file_extension": ".py",
   "mimetype": "text/x-python",
   "name": "python",
   "nbconvert_exporter": "python",
   "pygments_lexer": "ipython3",
   "version": "3.6.7"
  }
 },
 "nbformat": 4,
 "nbformat_minor": 4
}
